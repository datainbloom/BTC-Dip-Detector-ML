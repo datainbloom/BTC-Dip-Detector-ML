{
 "cells": [
  {
   "cell_type": "markdown",
   "id": "9a8a2b9c",
   "metadata": {},
   "source": [
    "## 🚀 DipDetectorML – Dashboard & Integration Notebook  \n",
    "**Team WaveRiders**  \n",
    "\n",
    "This notebook shows the *presentation and integration side* of our project.  \n",
    "This notebook shows the *presentation and integration side* of our project.  \n",
    "- 📉 Live BTC monitoring (via CoinGecko API)  \n",
    "- 🤖 Machine learning predictions (Random Forest from Mohammed’s notebook)  \n",
    "- 📧 Email alert previews (HTML) with user thresholds  \n",
    "- ☁️ AWS SES cloud setup mock-up (scaffold only)  \n",
    "- 📈 Monthly risk display (single probability from the ML model output)  \n",
    "- 📊 Visuals: price line + dip line, last checks table  \n",
    "- 🖥️ Streamlit app code (`app.py`) to run a demo dashboard  \n",
    "\n",
    "**Author & Role:** Jessenia — Project Lead, Dashboard & Integration  \n",
    "**Goal:** Give stakeholders a product-like demo that ties live data, ML output, and alert UX together.\n",
    "\n",
    "---"
   ]
  },
  {
   "cell_type": "markdown",
   "id": "ce8dc903",
   "metadata": {},
   "source": [
    "## 🛠️ 2. Imports & Dependencies"
   ]
  },
  {
   "cell_type": "code",
   "execution_count": null,
   "id": "e15a9801",
   "metadata": {},
   "outputs": [],
   "source": [
    "\n",
    "# Core\n",
    "import os, json\n",
    "from datetime import datetime, timezone\n",
    "\n",
    "# Data & Viz\n",
    "import pandas as pd\n",
    "import numpy as np\n",
    "import plotly.express as px\n",
    "from IPython.display import HTML, display\n",
    "\n",
    "# Networking\n",
    "import requests\n",
    "\n",
    "# Dashboard (used in app.py; not executed inside this notebook)\n",
    "import streamlit as st  # ok to import even if not run here\n",
    "\n",
    "# Optional AWS (only if you installed boto3 above)\n",
    "# import boto3\n",
    "# from dotenv import load_dotenv"
   ]
  },
  {
   "cell_type": "markdown",
   "id": "360c2d59",
   "metadata": {},
   "source": [
    "## 📑 3. Data Dictionary"
   ]
  },
  {
   "cell_type": "code",
   "execution_count": 9,
   "id": "9e12d445",
   "metadata": {},
   "outputs": [
    {
     "ename": "SyntaxError",
     "evalue": "invalid character '—' (U+2014) (3228636934.py, line 4)",
     "output_type": "error",
     "traceback": [
      "\u001b[1;36m  Cell \u001b[1;32mIn[9], line 4\u001b[1;36m\u001b[0m\n\u001b[1;33m    - `timestamp_utc` — time the snapshot was pulled\u001b[0m\n\u001b[1;37m                      ^\u001b[0m\n\u001b[1;31mSyntaxError\u001b[0m\u001b[1;31m:\u001b[0m invalid character '—' (U+2014)\n"
     ]
    }
   ],
   "source": [
    "## 📑 Data Dictionary — Display Layer (Jessenia)\n",
    "\n",
    "**Live market snapshot**  \n",
    "- `timestamp_utc` — time the snapshot was pulled  \n",
    "- `symbol` — “BTC”  \n",
    "- `price_usd` — latest price shown  \n",
    "- `change_24h_pct` — 24-hour percent change (fraction, e.g., −0.052 = −5.2%)  \n",
    "- `change_7d_pct` — 7-day percent change (optional)\n",
    "\n",
    "**Alert configuration (user-facing)**  \n",
    "- `threshold_pct` — selected alert threshold (2, 5, 10, 15, 20)  \n",
    "- `window` — lookback used for dip check (“24h” or “7d”)  \n",
    "- `triggered` — True/False if threshold crossed at this check  \n",
    "- `email_preview_html` — rendered alert HTML (for preview)  \n",
    "- `email_to` — demo recipient (test value)\n",
    "\n",
    "**ML summary (display-only)**  \n",
    "- `monthly_dip_prob` — probability of ≥20% monthly dip (0–1) from Mohammed’s output  \n",
    "- `model_version` — e.g., “rf_monthly_v1.pkl” (optional)  \n",
    "- `last_model_update` — when the probability was produced (optional)\n"
   ]
  },
  {
   "cell_type": "markdown",
   "id": "42084b52",
   "metadata": {},
   "source": [
    "## Live BTC Snapshot"
   ]
  },
  {
   "cell_type": "code",
   "execution_count": 7,
   "id": "2b75db49",
   "metadata": {},
   "outputs": [
    {
     "data": {
      "text/plain": [
       "{'timestamp_utc': '2025-08-28 16:31 UTC',\n",
       " 'symbol': 'BTC',\n",
       " 'price_usd': 113026.0,\n",
       " 'change_24h_pct': 0.011320133766837022,\n",
       " 'change_7d_pct': None}"
      ]
     },
     "execution_count": 7,
     "metadata": {},
     "output_type": "execute_result"
    }
   ],
   "source": [
    "def fetch_btc_snapshot():\n",
    "    \"\"\"Live price + 24h change from CoinGecko. Falls back to demo values if rate-limited.\"\"\"\n",
    "    url = \"https://api.coingecko.com/api/v3/simple/price\"\n",
    "    params = {\"ids\": \"bitcoin\", \"vs_currencies\": \"usd\", \"include_24hr_change\": \"true\"}\n",
    "    try:\n",
    "        r = requests.get(url, params=params, timeout=10)\n",
    "        r.raise_for_status()\n",
    "        data = r.json()[\"bitcoin\"]\n",
    "        price = float(data[\"usd\"])\n",
    "        ch24 = float(data.get(\"usd_24h_change\", 0.0)) / 100.0  # convert %→fraction\n",
    "    except Exception:\n",
    "        # Fallback demo numbers if API is blocked / rate-limited\n",
    "        price, ch24 = 56800.00, -0.034  # -3.4% demo\n",
    "    now = datetime.now(timezone.utc).strftime(\"%Y-%m-%d %H:%M UTC\")\n",
    "    return {\"timestamp_utc\": now, \"symbol\": \"BTC\", \"price_usd\": price, \"change_24h_pct\": ch24, \"change_7d_pct\": None}\n",
    "\n",
    "snap = fetch_btc_snapshot()\n",
    "snap\n"
   ]
  },
  {
   "cell_type": "markdown",
   "id": "e17b9007",
   "metadata": {},
   "source": [
    "## Markdown: Email Alert Preview"
   ]
  },
  {
   "cell_type": "code",
   "execution_count": 8,
   "id": "2301c1dd",
   "metadata": {},
   "outputs": [
    {
     "name": "stdout",
     "output_type": "stream",
     "text": [
      "Subject: ✅ DipDetectorML – BTC Alert: ▲1.13% in last 24h (Now $113,026.00)\n"
     ]
    },
    {
     "ename": "NameError",
     "evalue": "name 'HTML' is not defined",
     "output_type": "error",
     "traceback": [
      "\u001b[1;31m---------------------------------------------------------------------------\u001b[0m",
      "\u001b[1;31mNameError\u001b[0m                                 Traceback (most recent call last)",
      "Cell \u001b[1;32mIn[8], line 50\u001b[0m\n\u001b[0;32m     47\u001b[0m html_preview \u001b[38;5;241m=\u001b[39m build_html(symbol, price, ch24, threshold, window, monthly_prob)\n\u001b[0;32m     49\u001b[0m \u001b[38;5;28mprint\u001b[39m(\u001b[38;5;124m\"\u001b[39m\u001b[38;5;124mSubject:\u001b[39m\u001b[38;5;124m\"\u001b[39m, subject)\n\u001b[1;32m---> 50\u001b[0m display(HTML(html_preview))\n",
      "\u001b[1;31mNameError\u001b[0m: name 'HTML' is not defined"
     ]
    }
   ],
   "source": [
    "def fmt_usd(x): return f\"${x:,.2f}\"\n",
    "def fmt_pct(x): return f\"{x*100:.2f}%\"\n",
    "\n",
    "def build_subject(symbol, pct_change, price, window, threshold):\n",
    "    arrow = \"▼\" if pct_change < 0 else \"▲\"\n",
    "    return f\"✅ DipDetectorML – {symbol} Alert: {arrow}{fmt_pct(pct_change)} in last {window} (Now {fmt_usd(price)})\"\n",
    "\n",
    "def build_html(symbol, price_now, pct_change, threshold, window, monthly_prob=None):\n",
    "    prob_line = f\"<li>Model forecast: <b>{monthly_prob*100:.1f}%</b> chance of ≥20% dip this month</li>\" if monthly_prob is not None else \"\"\n",
    "    color = \"#d32f2f\" if pct_change < 0 else \"#2e7d32\"\n",
    "    arrow = \"▼\" if pct_change < 0 else \"▲\"\n",
    "    return f\"\"\"\n",
    "<!doctype html>\n",
    "<html>\n",
    "  <body style=\"font-family:Arial,sans-serif;line-height:1.55;color:#111;margin:0;padding:20px;background:#f6f8fb\">\n",
    "    <div style=\"max-width:640px;margin:0 auto;background:#fff;border-radius:12px;padding:20px;box-shadow:0 2px 8px rgba(0,0,0,.07)\">\n",
    "      <h2 style=\"color:#e85d04;margin:0 0 10px\">🚀 DipDetectorML Alert – {int(threshold)}% Dip Triggered!</h2>\n",
    "      <div style=\"display:inline-block;padding:6px 10px;border-radius:999px;background:{color};color:#fff;font-weight:700;margin:6px 0 14px\">\n",
    "        {arrow} {fmt_pct(pct_change)} in last {window}\n",
    "      </div>\n",
    "      <ul style=\"margin-top:0\">\n",
    "        <li>Current price: <b>{fmt_usd(price_now)}</b></li>\n",
    "        {prob_line}\n",
    "      </ul>\n",
    "      <p>📌 Example playbook for accumulators:</p>\n",
    "      <ul>\n",
    "        <li>5% dip → advance weekly DCA</li>\n",
    "        <li>10% dip → 2× DCA</li>\n",
    "        <li>20%+ dip → 3× DCA (if cash reserved)</li>\n",
    "      </ul>\n",
    "      <hr style=\"border:none;border-top:1px solid #eee;margin:16px 0\">\n",
    "      <p style=\"font-size:12px;color:#666\">You’re seeing this as a preview in Jessenia’s notebook (no email sent).</p>\n",
    "    </div>\n",
    "  </body>\n",
    "</html>\n",
    "\"\"\".strip()\n",
    "\n",
    "# Choose threshold + window for the preview\n",
    "threshold = 10\n",
    "window = \"24h\"\n",
    "symbol  = snap[\"symbol\"]; price = snap[\"price_usd\"]; ch24 = snap[\"change_24h_pct\"]\n",
    "\n",
    "# Until Mohammed exports a live artifact, use a demo probability\n",
    "monthly_prob = 0.32\n",
    "\n",
    "subject = build_subject(symbol, ch24, price, window, threshold)\n",
    "html_preview = build_html(symbol, price, ch24, threshold, window, monthly_prob)\n",
    "\n",
    "print(\"Subject:\", subject)\n",
    "display(HTML(html_preview))\n"
   ]
  }
 ],
 "metadata": {
  "kernelspec": {
   "display_name": "ds",
   "language": "python",
   "name": "python3"
  },
  "language_info": {
   "codemirror_mode": {
    "name": "ipython",
    "version": 3
   },
   "file_extension": ".py",
   "mimetype": "text/x-python",
   "name": "python",
   "nbconvert_exporter": "python",
   "pygments_lexer": "ipython3",
   "version": "3.12.9"
  }
 },
 "nbformat": 4,
 "nbformat_minor": 5
}
