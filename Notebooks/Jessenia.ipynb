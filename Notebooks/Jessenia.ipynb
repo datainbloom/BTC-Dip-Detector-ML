{
 "cells": [
  {
   "cell_type": "markdown",
   "id": "e351679d",
   "metadata": {},
   "source": [
    "## 🚀 DipDetectorML — Presentation & Integration Notebook  \n",
    "**Team WaveRiders**\n",
    "\n",
    "This notebook shows the *presentation and integration* side of our project:\n",
    "- 📉 Live BTC monitoring (CoinGecko API)\n",
    "- 🤖 Monthly ML probability (from Mohammed’s Random Forest)\n",
    "- ✉️ Email alert previews (HTML)\n",
    "- 🗺️ Architecture flow (Mermaid)\n",
    "- 📊 Stakeholder visuals (price + thresholds)\n",
    "- ☁️ Cloud plan (scaffold only, no sending here)\n",
    "\n",
    "**Author & Role:** Jessenia — Project Lead, Dashboard & Integration\n"
   ]
  },
  {
   "cell_type": "markdown",
   "id": "bdd0eb11",
   "metadata": {},
   "source": [
    "## 📑 Data Dictionary — Integration Layer\n",
    "\n",
    "- `timestamp_utc` — snapshot time (UTC)\n",
    "- `symbol` — “BTC”\n",
    "- `price_usd` — current price\n",
    "- `change_24h_pct` — 24h percent change (fraction, e.g., −0.052 = −5.2%)\n",
    "- `threshold_pct` — user-selected threshold (2, 5, 10, 15, 20)\n",
    "- `triggered` — True/False (dip ≥ threshold)\n",
    "- `monthly_dip_prob` — ML forecast of ≥20% monthly dip (0–1)\n",
    "- `email_preview_html` — formatted alert body (preview only)\n"
   ]
  },
  {
   "cell_type": "markdown",
   "id": "c61e18cc",
   "metadata": {},
   "source": [
    "## 🧭 End-to-End Architecture (Flowchart)\n",
    "\n",
    "```mermaid\n",
    "flowchart LR\n",
    "  subgraph U[Users]\n",
    "    U1[Subscribe or set preferences\\nemail, thresholds 2/5/10/15/20]\n",
    "  end\n",
    "  subgraph ING[Live Data Ingest]\n",
    "    I1[Fetch BTC price\\nCoinGecko API]\n",
    "    I2[Compute percent change\\n24h or 7d window]\n",
    "  end\n",
    "  subgraph AE[Alert Engine]\n",
    "    A1{Dip >= threshold?}\n",
    "    A2[Log check\\ndata/price_log.csv]\n",
    "  end\n",
    "  subgraph ML[ML Pipeline]\n",
    "    M1[Load historical BTC CSV]\n",
    "    M2[Feature engineering\\nreturns, RSI, volatility, volume]\n",
    "    M3[Train Random Forest]\n",
    "    M4[Evaluate and write metrics\\nreports/metrics.txt]\n",
    "    M5[Monthly forecast]\n",
    "    M6[[Write artifact\\ndata/ml_monthly_prob.json]]\n",
    "  end\n",
    "  subgraph EM[Email Delivery]\n",
    "    E1[Build email HTML]\n",
    "    E2{Delivery channel}\n",
    "    E3[SMTP demo]\n",
    "    E4[AWS SES future]\n",
    "  end\n",
    "  subgraph UI[Dashboard]\n",
    "    D1[Read live snapshot]\n",
    "    D2[Read monthly_dip_prob\\ndata/ml_monthly_prob.json]\n",
    "    D3[Render Streamlit UI\\napp.py]\n",
    "    D4[Show email preview and threshold status]\n",
    "    D5[Visuals: price line and dip thresholds]\n",
    "  end\n",
    "  subgraph DS[Data Stores]\n",
    "    S1[(data/price_log.csv)]\n",
    "    S2[(data/ml_monthly_prob.json)]\n",
    "    S3[(models/rf_monthly.pkl)]\n",
    "    S4[(reports/metrics.txt)]\n",
    "  end\n",
    "\n",
    "  U1 -->|prefs: threshold, email| D3\n",
    "  I1 --> I2 --> A1 --> A2 --> S1\n",
    "  A1 -- Yes --> E1\n",
    "  A1 -- No  --> D1\n",
    "  E1 --> E2\n",
    "  E2 -- SMTP --> E3 -->|send| U1\n",
    "  E2 -- SES  --> E4 -. future .-> U1\n",
    "  M1 --> M2 --> M3 --> M4 --> M5 --> M6 --> S2\n",
    "  M3 --> S3\n",
    "  S1 --> D1\n",
    "  S2 --> D2\n",
    "  D1 --> D3\n",
    "  D2 --> D3\n",
    "  D3 --> D4\n",
    "  D3 --> D5\n"
   ]
  },
  {
   "cell_type": "markdown",
   "id": "d2d2bf9b",
   "metadata": {},
   "source": [
    "## 4) 🧰 Imports (Code)\n"
   ]
  },
  {
   "cell_type": "code",
   "execution_count": 2,
   "id": "db6dec07",
   "metadata": {},
   "outputs": [
    {
     "ename": "SyntaxError",
     "evalue": "invalid syntax (3368979163.py, line 2)",
     "output_type": "error",
     "traceback": [
      "\u001b[1;36m  Cell \u001b[1;32mIn[2], line 2\u001b[1;36m\u001b[0m\n\u001b[1;33m    - Commented, minimal, no AWS here.\u001b[0m\n\u001b[1;37m                             ^\u001b[0m\n\u001b[1;31mSyntaxError\u001b[0m\u001b[1;31m:\u001b[0m invalid syntax\n"
     ]
    }
   ],
   "source": [
    "\n",
    "## 4) 🧰 Imports (Code)\n",
    "- Commented, minimal, no AWS here.\n",
    "\n",
    "```python\n",
    "# ============================\n",
    "# Jessenia's Imports (Integration/Presentation)\n",
    "# ============================\n",
    "\n",
    "# Core\n",
    "import os, json\n",
    "from datetime import datetime, timezone\n",
    "\n",
    "# Data & Viz\n",
    "import pandas as pd\n",
    "import numpy as np\n",
    "import plotly.express as px\n",
    "from IPython.display import HTML, display\n",
    "\n",
    "# Live snapshot\n",
    "import requests\n",
    "\n",
    "# Note: Streamlit lives in DipDetectorMLapp.py, not executed in this notebook.\n"
   ]
  },
  {
   "cell_type": "markdown",
   "id": "096285b4",
   "metadata": {},
   "source": [
    "## ⚡ Live BTC Snapshot (Code + tiny fallback)"
   ]
  },
  {
   "cell_type": "code",
   "execution_count": 3,
   "id": "8cdecd6e",
   "metadata": {},
   "outputs": [
    {
     "ename": "NameError",
     "evalue": "name 'datetime' is not defined",
     "output_type": "error",
     "traceback": [
      "\u001b[1;31m---------------------------------------------------------------------------\u001b[0m",
      "\u001b[1;31mNameError\u001b[0m                                 Traceback (most recent call last)",
      "Cell \u001b[1;32mIn[3], line 16\u001b[0m\n\u001b[0;32m     13\u001b[0m     now \u001b[38;5;241m=\u001b[39m datetime\u001b[38;5;241m.\u001b[39mnow(timezone\u001b[38;5;241m.\u001b[39mutc)\u001b[38;5;241m.\u001b[39mstrftime(\u001b[38;5;124m\"\u001b[39m\u001b[38;5;124m%\u001b[39m\u001b[38;5;124mY-\u001b[39m\u001b[38;5;124m%\u001b[39m\u001b[38;5;124mm-\u001b[39m\u001b[38;5;132;01m%d\u001b[39;00m\u001b[38;5;124m \u001b[39m\u001b[38;5;124m%\u001b[39m\u001b[38;5;124mH:\u001b[39m\u001b[38;5;124m%\u001b[39m\u001b[38;5;124mM UTC\u001b[39m\u001b[38;5;124m\"\u001b[39m)\n\u001b[0;32m     14\u001b[0m     \u001b[38;5;28;01mreturn\u001b[39;00m {\u001b[38;5;124m\"\u001b[39m\u001b[38;5;124mtimestamp_utc\u001b[39m\u001b[38;5;124m\"\u001b[39m: now, \u001b[38;5;124m\"\u001b[39m\u001b[38;5;124msymbol\u001b[39m\u001b[38;5;124m\"\u001b[39m: \u001b[38;5;124m\"\u001b[39m\u001b[38;5;124mBTC\u001b[39m\u001b[38;5;124m\"\u001b[39m, \u001b[38;5;124m\"\u001b[39m\u001b[38;5;124mprice_usd\u001b[39m\u001b[38;5;124m\"\u001b[39m: price, \u001b[38;5;124m\"\u001b[39m\u001b[38;5;124mchange_24h_pct\u001b[39m\u001b[38;5;124m\"\u001b[39m: ch24}\n\u001b[1;32m---> 16\u001b[0m snap \u001b[38;5;241m=\u001b[39m fetch_btc_snapshot()\n\u001b[0;32m     17\u001b[0m pd\u001b[38;5;241m.\u001b[39mDataFrame([snap])\n",
      "Cell \u001b[1;32mIn[3], line 13\u001b[0m, in \u001b[0;36mfetch_btc_snapshot\u001b[1;34m()\u001b[0m\n\u001b[0;32m     11\u001b[0m \u001b[38;5;28;01mexcept\u001b[39;00m \u001b[38;5;167;01mException\u001b[39;00m:\n\u001b[0;32m     12\u001b[0m     price, ch24 \u001b[38;5;241m=\u001b[39m \u001b[38;5;241m56800.00\u001b[39m, \u001b[38;5;241m-\u001b[39m\u001b[38;5;241m0.034\u001b[39m  \u001b[38;5;66;03m# demo fallback\u001b[39;00m\n\u001b[1;32m---> 13\u001b[0m now \u001b[38;5;241m=\u001b[39m datetime\u001b[38;5;241m.\u001b[39mnow(timezone\u001b[38;5;241m.\u001b[39mutc)\u001b[38;5;241m.\u001b[39mstrftime(\u001b[38;5;124m\"\u001b[39m\u001b[38;5;124m%\u001b[39m\u001b[38;5;124mY-\u001b[39m\u001b[38;5;124m%\u001b[39m\u001b[38;5;124mm-\u001b[39m\u001b[38;5;132;01m%d\u001b[39;00m\u001b[38;5;124m \u001b[39m\u001b[38;5;124m%\u001b[39m\u001b[38;5;124mH:\u001b[39m\u001b[38;5;124m%\u001b[39m\u001b[38;5;124mM UTC\u001b[39m\u001b[38;5;124m\"\u001b[39m)\n\u001b[0;32m     14\u001b[0m \u001b[38;5;28;01mreturn\u001b[39;00m {\u001b[38;5;124m\"\u001b[39m\u001b[38;5;124mtimestamp_utc\u001b[39m\u001b[38;5;124m\"\u001b[39m: now, \u001b[38;5;124m\"\u001b[39m\u001b[38;5;124msymbol\u001b[39m\u001b[38;5;124m\"\u001b[39m: \u001b[38;5;124m\"\u001b[39m\u001b[38;5;124mBTC\u001b[39m\u001b[38;5;124m\"\u001b[39m, \u001b[38;5;124m\"\u001b[39m\u001b[38;5;124mprice_usd\u001b[39m\u001b[38;5;124m\"\u001b[39m: price, \u001b[38;5;124m\"\u001b[39m\u001b[38;5;124mchange_24h_pct\u001b[39m\u001b[38;5;124m\"\u001b[39m: ch24}\n",
      "\u001b[1;31mNameError\u001b[0m: name 'datetime' is not defined"
     ]
    }
   ],
   "source": [
    "def fetch_btc_snapshot():\n",
    "    \"\"\"Live price + 24h change from CoinGecko; fallback to demo values if rate-limited.\"\"\"\n",
    "    url = \"https://api.coingecko.com/api/v3/simple/price\"\n",
    "    params = {\"ids\": \"bitcoin\", \"vs_currencies\": \"usd\", \"include_24hr_change\": \"true\"}\n",
    "    try:\n",
    "        r = requests.get(url, params=params, timeout=10)\n",
    "        r.raise_for_status()\n",
    "        data = r.json()[\"bitcoin\"]\n",
    "        price = float(data[\"usd\"])\n",
    "        ch24 = float(data.get(\"usd_24h_change\", 0.0)) / 100.0  # % -> fraction\n",
    "    except Exception:\n",
    "        price, ch24 = 56800.00, -0.034  # demo fallback\n",
    "    now = datetime.now(timezone.utc).strftime(\"%Y-%m-%d %H:%M UTC\")\n",
    "    return {\"timestamp_utc\": now, \"symbol\": \"BTC\", \"price_usd\": price, \"change_24h_pct\": ch24}\n",
    "\n",
    "snap = fetch_btc_snapshot()\n",
    "pd.DataFrame([snap])\n"
   ]
  },
  {
   "cell_type": "markdown",
   "id": "617e4239",
   "metadata": {},
   "source": [
    "## ✉️ Email Alert Preview (no-send)\n",
    "We render the alert email body and subject using today’s snapshot and a chosen threshold (demo only)."
   ]
  },
  {
   "cell_type": "markdown",
   "id": "66becaa7",
   "metadata": {},
   "source": [
    "def fmt_usd(x): return f\"${x:,.2f}\"\n",
    "def fmt_pct(x): return f\"{x*100:.2f}%\"\n",
    "\n",
    "def build_subject(symbol, pct_change, price, window, threshold):\n",
    "    arrow = \"▼\" if pct_change < 0 else \"▲\"\n",
    "    return f\"✅ DipDetectorML – {symbol} Alert: {arrow}{fmt_pct(pct_change)} in last {window} (Now {fmt_usd(price)})\"\n",
    "\n",
    "def build_html(symbol, price_now, pct_change, threshold, window, monthly_prob=None):\n",
    "    prob_line = f\"<li>Model forecast: <b>{monthly_prob*100:.1f}%</b> chance of ≥20% dip this month</li>\" if monthly_prob is not None else \"\"\n",
    "    color = \"#d32f2f\" if pct_change < 0 else \"#2e7d32\"\n",
    "    arrow = \"▼\" if pct_change < 0 else \"▲\"\n",
    "    return f\"\"\"\n",
    "<!doctype html>\n",
    "<html>\n",
    "  <body style=\"font-family:Arial,sans-serif;line-height:1.55;color:#111;margin:0;padding:20px;background:#0f172a\">\n",
    "    <div style=\"max-width:720px;margin:0 auto;background:#0b1020;border:1px solid #1f2a44;border-radius:14px;padding:22px;color:#e5e7eb\">\n",
    "      <h2 style=\"color:#f59e0b;margin:0 0 10px\">🚀 DipDetectorML Alert – {int(threshold)}% Dip Triggered!</h2>\n",
    "      <div style=\"display:inline-block;padding:6px 10px;border-radius:999px;background:{color};color:#fff;font-weight:700;margin:6px 0 14px\">\n",
    "        {arrow} {fmt_pct(pct_change)} in last {window}\n",
    "      </div>\n",
    "      <ul style=\"margin-top:0\">\n",
    "        <li>Current price: <b>{fmt_usd(price_now)}</b></li>\n",
    "        {prob_line}\n",
    "      </ul>\n",
    "      <p>📌 Accumulation playbook (example):</p>\n",
    "      <ul>\n",
    "        <li>5% dip → advance weekly DCA</li>\n",
    "        <li>10% dip → 2× DCA</li>\n",
    "        <li>20%+ dip → 3× DCA (if cash reserved)</li>\n",
    "      </ul>\n",
    "      <hr style=\"border:none;border-top:1px solid #1f2a44;margin:16px 0\">\n",
    "      <p style=\"font-size:12px;color:#94a3b8\">Preview only (no email sent). Powered by WaveRiders 🌊</p>\n",
    "    </div>\n",
    "  </body>\n",
    "</html>\n",
    "\"\"\".strip()\n",
    "\n",
    "threshold = 10\n",
    "window = \"24h\"\n",
    "symbol, price, ch24 = snap[\"symbol\"], snap[\"price_usd\"], snap[\"change_24h_pct\"]\n",
    "monthly_prob_demo = 0.32\n",
    "\n",
    "subject = build_subject(symbol, ch24, price, window, threshold)\n",
    "html_preview = build_html(symbol, price, ch24, threshold, window, monthly_prob_demo)\n",
    "\n",
    "print(\"Subject:\", subject)\n",
    "display(HTML(html_preview))\n"
   ]
  },
  {
   "cell_type": "markdown",
   "id": "24084d7f",
   "metadata": {},
   "source": [
    "## 🤖 Monthly ≥20% Dip Probability (from ML artifact)\n",
    "We display the probability produced by Mohammed’s Random Forest model.  \n",
    "This notebook reads `data/ml_monthly_prob.json` if available.\n"
   ]
  },
  {
   "cell_type": "code",
   "execution_count": null,
   "id": "ae4805dc",
   "metadata": {},
   "outputs": [],
   "source": [
    "# Try to load from data/ml_monthly_prob.json; fallback to demo value\n",
    "monthly_prob = monthly_prob_demo\n",
    "model_version = \"rf_monthly_v1.pkl\"\n",
    "last_model_update = snap[\"timestamp_utc\"]\n",
    "\n",
    "try:\n",
    "    with open(\"data/ml_monthly_prob.json\", \"r\") as f:\n",
    "        obj = json.load(f)\n",
    "    monthly_prob = float(obj.get(\"monthly_dip_prob\", monthly_prob))\n",
    "    model_version = obj.get(\"model_version\", model_version)\n",
    "    last_model_update = obj.get(\"last_model_update\", last_model_update)\n",
    "except FileNotFoundError:\n",
    "    pass\n",
    "\n",
    "pd.DataFrame([{\n",
    "    \"monthly_dip_prob\": monthly_prob,\n",
    "    \"model_version\": model_version,\n",
    "    \"last_model_update\": last_model_update\n",
    "}])\n"
   ]
  },
  {
   "cell_type": "markdown",
   "id": "7a36771f",
   "metadata": {},
   "source": [
    "## 📊 Stakeholder Visuals\n",
    "- Price line with dip threshold\n",
    "- “Last checks” table with “would trigger?” and subject preview\n"
   ]
  },
  {
   "cell_type": "code",
   "execution_count": 4,
   "id": "afc5da16",
   "metadata": {},
   "outputs": [
    {
     "ename": "NameError",
     "evalue": "name 'pd' is not defined",
     "output_type": "error",
     "traceback": [
      "\u001b[1;31m---------------------------------------------------------------------------\u001b[0m",
      "\u001b[1;31mNameError\u001b[0m                                 Traceback (most recent call last)",
      "Cell \u001b[1;32mIn[4], line 2\u001b[0m\n\u001b[0;32m      1\u001b[0m \u001b[38;5;66;03m# Build a short demo price series around current price for the chart\u001b[39;00m\n\u001b[1;32m----> 2\u001b[0m dates \u001b[38;5;241m=\u001b[39m pd\u001b[38;5;241m.\u001b[39mdate_range(end\u001b[38;5;241m=\u001b[39mpd\u001b[38;5;241m.\u001b[39mTimestamp\u001b[38;5;241m.\u001b[39mutcnow(), periods\u001b[38;5;241m=\u001b[39m\u001b[38;5;241m60\u001b[39m, freq\u001b[38;5;241m=\u001b[39m\u001b[38;5;124m\"\u001b[39m\u001b[38;5;124mD\u001b[39m\u001b[38;5;124m\"\u001b[39m)\n\u001b[0;32m      3\u001b[0m rng \u001b[38;5;241m=\u001b[39m np\u001b[38;5;241m.\u001b[39mrandom\u001b[38;5;241m.\u001b[39mdefault_rng(\u001b[38;5;241m13\u001b[39m)\n\u001b[0;32m      4\u001b[0m series \u001b[38;5;241m=\u001b[39m np\u001b[38;5;241m.\u001b[39mlinspace(price\u001b[38;5;241m*\u001b[39m\u001b[38;5;241m1.08\u001b[39m, price\u001b[38;5;241m*\u001b[39m\u001b[38;5;241m0.92\u001b[39m, \u001b[38;5;28mlen\u001b[39m(dates)) \u001b[38;5;241m+\u001b[39m rng\u001b[38;5;241m.\u001b[39mnormal(\u001b[38;5;241m0\u001b[39m, price\u001b[38;5;241m*\u001b[39m\u001b[38;5;241m0.006\u001b[39m, \u001b[38;5;28mlen\u001b[39m(dates))\n",
      "\u001b[1;31mNameError\u001b[0m: name 'pd' is not defined"
     ]
    }
   ],
   "source": [
    "# Build a short demo price series around current price for the chart\n",
    "dates = pd.date_range(end=pd.Timestamp.utcnow(), periods=60, freq=\"D\")\n",
    "rng = np.random.default_rng(13)\n",
    "series = np.linspace(price*1.08, price*0.92, len(dates)) + rng.normal(0, price*0.006, len(dates))\n",
    "df_demo = pd.DataFrame({\"date\": dates, \"price\": series})\n",
    "\n",
    "fig = px.line(df_demo, x=\"date\", y=\"price\", title=\"BTC Price (demo)\")\n",
    "dip_line = price * (1 - threshold/100.0)\n",
    "fig.add_hline(y=dip_line, line_dash=\"dot\", annotation_text=f\"{threshold}% dip line\", annotation_position=\"bottom right\")\n",
    "fig.show()\n",
    "\n",
    "# Last checks table (vary % around current)\n",
    "rows = []\n",
    "for i in range(6):\n",
    "    pct = ch24 + (i-3)*0.01  # +/- 1% steps\n",
    "    trig = (pct <= -threshold/100.0)\n",
    "    subj = build_subject(symbol, pct, price, \"24h\", threshold)\n",
    "    rows.append({\n",
    "        \"timestamp_utc\": datetime.now(timezone.utc).strftime(\"%Y-%m-%d %H:%M:%S UTC\"),\n",
    "        \"price_usd\": price,\n",
    "        \"change_24h_pct\": pct,\n",
    "        \"threshold_pct\": threshold,\n",
    "        \"triggered\": trig,\n",
    "        \"subject_preview\": subj\n",
    "    })\n",
    "pd.DataFrame(rows)\n"
   ]
  },
  {
   "cell_type": "markdown",
   "id": "56f33ed2",
   "metadata": {},
   "source": [
    "## 🖥️ Dashboard Hook (Streamlit in `DipDetectorMLapp.py`)\n",
    "The interactive UI lives in a separate file:\n",
    "```bash\n",
    "streamlit run DipDetectorMLapp.py\n"
   ]
  },
  {
   "cell_type": "markdown",
   "id": "55ac893c",
   "metadata": {},
   "source": [
    "## 🧭 Roadblocks & Next Steps\n",
    "**Roadblocks**\n",
    "- API 403/422 handling and free-tier rate limits\n",
    "- Email sending not fully automated in cloud\n",
    "- Time to polish dashboard deployment\n",
    "\n",
    "**Next Steps**\n",
    "- Read ML probability from artifact on refresh\n",
    "- Connect live dip logic to dashboard “Triggered” state\n",
    "- Switch to SES for sending; add subscribers CSV & per-user thresholds\n"
   ]
  },
  {
   "cell_type": "markdown",
   "id": "06877cad",
   "metadata": {},
   "source": [
    "## 🙏 Thanks\n",
    "\n",
    "- 😎 Maurice (Mentor) 💡 — for patient guidance and encouragement.  \n",
    "- DS Peer Tutor Fari 🤝 — for hands-on support during roadblocks.  \n",
    "- Farukh & Gaurav (Instructors) 🎓 — for teaching and feedback.  \n",
    "- CoinGecko 🦎 — for free API access.  "
   ]
  },
  {
   "cell_type": "markdown",
   "id": "211a3dfb",
   "metadata": {},
   "source": []
  }
 ],
 "metadata": {
  "kernelspec": {
   "display_name": "ds",
   "language": "python",
   "name": "python3"
  },
  "language_info": {
   "codemirror_mode": {
    "name": "ipython",
    "version": 3
   },
   "file_extension": ".py",
   "mimetype": "text/x-python",
   "name": "python",
   "nbconvert_exporter": "python",
   "pygments_lexer": "ipython3",
   "version": "3.12.9"
  }
 },
 "nbformat": 4,
 "nbformat_minor": 5
}
