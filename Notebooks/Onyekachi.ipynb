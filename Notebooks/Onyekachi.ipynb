{
 "cells": [
  {
   "cell_type": "code",
   "execution_count": 12,
   "id": "e8cd0245",
   "metadata": {},
   "outputs": [],
   "source": [
    "# Step 1: Import required libraries\n",
    "import requests\n",
    "import os\n",
    "from datetime import datetime\n",
    "from email.mime.text import MIMEText\n",
    "import smtplib\n",
    "\n"
   ]
  },
  {
   "cell_type": "code",
   "execution_count": 13,
   "id": "59a3cd85",
   "metadata": {},
   "outputs": [
    {
     "name": "stdout",
     "output_type": "stream",
     "text": [
      "200\n",
      "[{'id': 'bitcoin', 'symbol': 'btc', 'name': 'Bitcoin', 'image': 'https://coin-images.coingecko.com/coins/images/1/large/bitcoin.png?1696501400', 'current_price': 111421, 'market_cap': 2214395543348, 'market_cap_rank': 1, 'fully_diluted_valuation': 2214397322652, 'total_volume': 36622772880, 'high_24h': 112555, 'low_24h': 110464, 'price_change_24h': -242.98584973432298, 'price_change_percentage_24h': -0.2176, 'market_cap_change_24h': -12630152428.092773, 'market_cap_change_percentage_24h': -0.56713, 'circulating_supply': 19912459.0, 'total_supply': 19912475.0, 'max_supply': 21000000.0, 'ath': 124128, 'ath_change_percentage': -10.38507, 'ath_date': '2025-08-14T00:37:02.582Z', 'atl': 67.81, 'atl_change_percentage': 163944.9849, 'atl_date': '2013-07-06T00:00:00.000Z', 'roi': None, 'last_updated': '2025-08-28T00:12:00.665Z', 'price_change_percentage_24h_in_currency': -0.2176038009332798, 'price_change_percentage_7d_in_currency': -2.4762066928386015}]\n"
     ]
    }
   ],
   "source": [
    "url = \"https://api.coingecko.com/api/v3/coins/markets\"\n",
    "params = {\n",
    "    \"vs_currency\": \"usd\",     \n",
    "    \"ids\": \"bitcoin\",         \n",
    "    \"price_change_percentage\": \"24h,7d\",  \n",
    "    \"per_page\": 1,\n",
    "    \"page\": 1,\n",
    "    \"sparkline\": False\n",
    "}\n",
    "\n",
    "r = requests.get(url, params=params)\n",
    "print(r.status_code)   # return 200\n",
    "print(r.json())        # see response\n"
   ]
  },
  {
   "cell_type": "code",
   "execution_count": 14,
   "id": "d9559a31",
   "metadata": {},
   "outputs": [
    {
     "data": {
      "text/plain": [
       "<Response [200]>"
      ]
     },
     "execution_count": 14,
     "metadata": {},
     "output_type": "execute_result"
    }
   ],
   "source": [
    "r = requests.get(url, params=params)\n",
    "\n",
    "r"
   ]
  },
  {
   "cell_type": "code",
   "execution_count": 15,
   "id": "0872522a",
   "metadata": {},
   "outputs": [
    {
     "name": "stdout",
     "output_type": "stream",
     "text": [
      "<class 'str'>\n",
      "[{\"id\":\"bitcoin\",\"symbol\":\"btc\",\"name\":\"Bitcoin\",\"image\":\"https://coin-images.coingecko.com/coins/images/1/large/bitcoin.png?1696501400\",\"current_price\":111421,\"market_cap\":2214395543348,\"market_cap_rank\":1,\"fully_diluted_valuation\":2214397322652,\"total_volume\":36622772880,\"high_24h\":112555,\"low_24h\":110464,\"price_change_24h\":-242.98584973432298,\"price_change_percentage_24h\":-0.2176,\"market_cap_change_24h\":-12630152428.092773,\"market_cap_change_percentage_24h\":-0.56713,\"circulating_supply\":19912459.0,\"total_supply\":19912475.0,\"max_supply\":21000000.0,\"ath\":124128,\"ath_change_percentage\":-10.38507,\"ath_date\":\"2025-08-14T00:37:02.582Z\",\"atl\":67.81,\"atl_change_percentage\":163944.9849,\"atl_date\":\"2013-07-06T00:00:00.000Z\",\"roi\":null,\"last_updated\":\"2025-08-28T00:12:00.665Z\",\"price_change_percentage_24h_in_currency\":-0.2176038009332798,\"price_change_percentage_7d_in_currency\":-2.4762066928386015}]\n"
     ]
    }
   ],
   "source": [
    "r = requests.get(url, params=params)\n",
    "print(type(r.text))\n",
    "print(r.text)"
   ]
  },
  {
   "cell_type": "code",
   "execution_count": 16,
   "id": "c32cd0c1",
   "metadata": {},
   "outputs": [
    {
     "name": "stdout",
     "output_type": "stream",
     "text": [
      "utf-8\n",
      "200\n"
     ]
    }
   ],
   "source": [
    "print(r.encoding)\n",
    "print(r.status_code)"
   ]
  },
  {
   "cell_type": "code",
   "execution_count": 118,
   "id": "ffdc08c0",
   "metadata": {},
   "outputs": [],
   "source": [
    "def get_btc_markets():\n",
    "    url = \"https://api.coingecko.com/api/v3/coins/markets\"\n",
    "    params = {\n",
    "        \"vs_currency\": \"usd\",     \n",
    "        \"ids\": \"bitcoin\",         \n",
    "        \"price_change_percentage\": \"24h,7d\",  \n",
    "        \"per_page\": 1,\n",
    "        \"page\": 1,\n",
    "        \"sparkline\": False\n",
    "    }\n",
    "    headers = {\"accept\": \"application/json\", \"User-Agent\": \"Mozilla/5.0\"}\n",
    "    r = requests.get(url, params=params, headers=headers, timeout=20)\n",
    "    r.raise_for_status()\n",
    "    data = r.json()\n",
    "    if not data:\n",
    "        raise RuntimeError(\"Empty markets response\")\n",
    "    item = data[0]  # list → first object \n",
    "    return {\n",
    "        \"price\": item[\"current_price\"],\n",
    "        \"pct_24h\": item.get(\"price_change_percentage_24h_in_currency\"),\n",
    "        \"pct_7d\": item.get(\"price_change_percentage_7d_in_currency\")\n",
    "    }\n"
   ]
  },
  {
   "cell_type": "code",
   "execution_count": 3,
   "id": "7d7f4162",
   "metadata": {},
   "outputs": [],
   "source": [
    "def send_alert(message):\n",
    "    print(f\"[{datetime.now()}] ALERT: {message}\")"
   ]
  },
  {
   "cell_type": "code",
   "execution_count": 8,
   "id": "4b2f78ad",
   "metadata": {},
   "outputs": [
    {
     "name": "stdout",
     "output_type": "stream",
     "text": [
      "[2025-08-27 19:42:57.584985] BTC $111213 | 24h: -0.54% | 7d: -2.95%\n"
     ]
    }
   ],
   "source": [
    "EMAIL_SENDER = os.environ.get(\"EMAIL_SENDER\")\n",
    "EMAIL_RECEIVER = os.environ.get(\"EMAIL_RECEIVER\")\n",
    "EMAIL_PASSWORD = os.environ.get(\"EMAIL_PASSWORD\")  # Gmail App Password\n",
    "\n",
    "# =========================\n",
    "#  Fetch BTC Market Data\n",
    "# =========================\n",
    "def get_btc_markets():\n",
    "    url = \"https://api.coingecko.com/api/v3/coins/markets\"\n",
    "    params = {\n",
    "        \"vs_currency\": \"usd\",\n",
    "        \"ids\": \"bitcoin\",\n",
    "        \"price_change_percentage\": \"24h,7d\",\n",
    "        \"per_page\": 1,\n",
    "        \"page\": 1,\n",
    "        \"sparkline\": False\n",
    "    }\n",
    "    headers = {\"accept\": \"application/json\", \"User-Agent\": \"Mozilla/5.0\"}\n",
    "    r = requests.get(url, params=params, headers=headers, timeout=20)\n",
    "    r.raise_for_status()\n",
    "    data = r.json()\n",
    "    if not data:\n",
    "        raise RuntimeError(\"Empty markets response\")\n",
    "    item = data[0]\n",
    "    return {\n",
    "        \"price\": item[\"current_price\"],\n",
    "        \"pct_24h\": item.get(\"price_change_percentage_24h_in_currency\"),\n",
    "        \"pct_7d\": item.get(\"price_change_percentage_7d_in_currency\")\n",
    "    }\n",
    "\n",
    "# =========================\n",
    "#  Send Email Alert\n",
    "# =========================\n",
    "def send_email_alert(subject, message):\n",
    "    if not (EMAIL_SENDER and EMAIL_RECEIVER and EMAIL_PASSWORD):\n",
    "        print(\"❌ Missing environment variables for email config\")\n",
    "        return\n",
    "    \n",
    "    try:\n",
    "        msg = MIMEText(message)\n",
    "        msg[\"Subject\"] = subject\n",
    "        msg[\"From\"] = EMAIL_SENDER\n",
    "        msg[\"To\"] = EMAIL_RECEIVER\n",
    "\n",
    "        with smtplib.SMTP_SSL(\"smtp.gmail.com\", 465) as server:\n",
    "            server.login(EMAIL_SENDER, EMAIL_PASSWORD)\n",
    "            server.sendmail(EMAIL_SENDER, EMAIL_RECEIVER, msg.as_string())\n",
    "        \n",
    "        print(f\"[{datetime.now()}] ✅ Email alert sent\")\n",
    "    except Exception as e:\n",
    "        print(f\"[{datetime.now()}] ❌ Email failed: {e}\")\n",
    "\n",
    "# =========================\n",
    "#  Check thresholds + trigger alerts\n",
    "# =========================\n",
    "def check_alerts():\n",
    "    btc = get_btc_markets()\n",
    "    price = btc[\"price\"]\n",
    "    pct_24h = btc[\"pct_24h\"]\n",
    "    pct_7d = btc[\"pct_7d\"]\n",
    "\n",
    "    print(f\"[{datetime.now()}] BTC ${price} | 24h: {pct_24h:.2f}% | 7d: {pct_7d:.2f}%\")\n",
    "\n",
    "    alerts = []\n",
    "\n",
    "    # Example rules — adjust thresholds as needed\n",
    "    if pct_24h is not None and pct_24h <= -10:\n",
    "        alerts.append(f\"⚠️ BTC down {pct_24h:.2f}% in last 24h! Current price: ${price}\")\n",
    "    if pct_7d is not None and pct_7d <= -20:\n",
    "        alerts.append(f\"🚨 BTC down {pct_7d:.2f}% in last 7 days! Current price: ${price}\")\n",
    "\n",
    "    if alerts:\n",
    "        send_email_alert(\"BTC Market Alert\", \"\\n\".join(alerts))\n",
    "\n",
    "# =========================\n",
    "#  Main\n",
    "# =========================\n",
    "if __name__ == \"__main__\":\n",
    "    check_alerts()"
   ]
  },
  {
   "cell_type": "code",
   "execution_count": 9,
   "id": "cc190e8b",
   "metadata": {},
   "outputs": [],
   "source": [
    "EMAIL_SENDER = \"onyekachi.amaefule031@gmail.com\"\n",
    "EMAIL_RECEIVER = \"jessenia@datainbloom.dev\"\n",
    "EMAIL_PASSWORD = \"your_app_password\""
   ]
  }
 ],
 "metadata": {
  "kernelspec": {
   "display_name": "ds",
   "language": "python",
   "name": "python3"
  },
  "language_info": {
   "codemirror_mode": {
    "name": "ipython",
    "version": 3
   },
   "file_extension": ".py",
   "mimetype": "text/x-python",
   "name": "python",
   "nbconvert_exporter": "python",
   "pygments_lexer": "ipython3",
   "version": "3.12.9"
  }
 },
 "nbformat": 4,
 "nbformat_minor": 5
}
